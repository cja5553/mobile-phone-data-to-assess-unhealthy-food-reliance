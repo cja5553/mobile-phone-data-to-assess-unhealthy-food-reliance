{
 "cells": [
  {
   "cell_type": "code",
   "execution_count": 1,
   "id": "8909c8de",
   "metadata": {},
   "outputs": [
    {
     "data": {
      "application/vnd.jupyter.widget-view+json": {
       "model_id": "e75aee6058ed445ab43cdd45a3cd824a",
       "version_major": 2,
       "version_minor": 0
      },
      "text/plain": [
       "  0%|          | 0/3 [00:00<?, ?it/s]"
      ]
     },
     "metadata": {},
     "output_type": "display_data"
    }
   ],
   "source": [
    "import glob\n",
    "import gzip\n",
    "import tqdm.notebook as tq\n",
    "import json\n",
    "import numpy as np\n",
    "\n",
    "# reading and combining files\n",
    "ZIPFILES='*.csv'\n",
    "filelist = glob.glob(ZIPFILES)\n",
    "import pandas as pd\n",
    "df = pd.DataFrame()\n",
    "for gzfile in tq.tqdm(filelist):\n",
    "    if len(df)==0:\n",
    "        df=pd.read_csv(gzfile)\n",
    "    else:\n",
    "        data = pd.read_csv(gzfile)\n",
    "        df=pd.concat([data,df])\n",
    "# cleaning the data by dropping the indexed columns and converting NA rows to 0. \n",
    "df=df.reset_index().drop([\"index\"], axis=1)\n",
    "df = df[df['fips'].notna()]\n",
    "df['cases'] = df['cases'].fillna(0)\n",
    "df['deaths']=df['deaths'].fillna(0)"
   ]
  },
  {
   "cell_type": "code",
   "execution_count": 2,
   "id": "0097c458",
   "metadata": {},
   "outputs": [],
   "source": [
    "## converting FIPS to string\n",
    "df[\"fips\"]=[str(int(i)) for i in df.fips]\n",
    "## converting the county FIPS to character, including the 0 infront of counties with 4-digit FIPS (eg \"1234\" -> \"01234\")\n",
    "df[\"fips\"]=(pd.Series(df.fips)).str.pad(width=5,fillchar='0')\n",
    "## Converting date to datetime format. \n",
    "df['date']=pd.to_datetime(df['date'], format='%Y-%m-%d')\n",
    "df=df.sort_values(by='date')\n",
    "## converting proper columns to its relevant forms. \n",
    "df[\"cases\"]=[int(i) for i in df[\"cases\"]]\n",
    "df[\"deaths\"]=[int(i) for i in df[\"deaths\"]]"
   ]
  },
  {
   "cell_type": "code",
   "execution_count": 3,
   "id": "2ca7ed3a",
   "metadata": {},
   "outputs": [
    {
     "data": {
      "application/vnd.jupyter.widget-view+json": {
       "model_id": "0eabccfd0ebf4ab98418a76040a36536",
       "version_major": 2,
       "version_minor": 0
      },
      "text/plain": [
       "  0%|          | 0/3220 [00:00<?, ?it/s]"
      ]
     },
     "metadata": {},
     "output_type": "display_data"
    }
   ],
   "source": [
    "# Removing and dropping NAs (cannot be possible to have NA deaths or cases)\n",
    "df = df[df['deaths'].notna()]\n",
    "df = df[df['cases'].notna()]\n",
    "\n",
    "# calculating daily COVID incidence cases and deaths (which is the number of new cases)\n",
    "## to do this we take subtract each current date from the previous days cases\n",
    "list_of_fips=list(np.unique(np.array(df.fips)))\n",
    "df_new=pd.DataFrame()\n",
    "for county in tq.tqdm(list_of_fips):\n",
    "    df_temp=df[df['fips']==str(county)]\n",
    "    df_temp=df_temp.sort_values(by='date')\n",
    "    df_temp=df_temp.reset_index().drop([\"index\"], axis=1)\n",
    "    temp=[(int((df_temp['cases'])[i]) - int((df_temp['cases'])[i-1])) for i in range(1,len(df_temp))]\n",
    "    temp.append(int(df_temp.cases[0]))\n",
    "    df_temp['cases']=temp\n",
    "    temp=[(int((df_temp['deaths'])[i]) - int((df_temp['deaths'])[i-1])) for i in range(1,len(df_temp))]\n",
    "    temp.append(int(df_temp.deaths[0]))\n",
    "    df_temp['deaths']=temp\n",
    "    if len(df_new)==0:\n",
    "        df_new=df_temp\n",
    "    else:\n",
    "        df_new=pd.concat([df_new,df_temp])\n",
    "\n",
    "df_new=df_new.reset_index().drop([\"index\"], axis=1)\n",
    "df_new['deaths'] = df_new['deaths'].fillna(0)\n",
    "df_new['cases'] = df_new['cases'].fillna(0)\n",
    "df_new['date']=(df_new['date']).dt.to_period('M')\n"
   ]
  },
  {
   "cell_type": "code",
   "execution_count": 5,
   "id": "ef192a07",
   "metadata": {},
   "outputs": [],
   "source": [
    "# Aggregating each county's daily COVID incidence to its monthly COVID incidence cases and deaths (which is the sum of new cases for the month)\n",
    "aggregated=(df_new.groupby(['date','county','state','fips'],as_index=False).agg(monthly_cases=('cases', 'sum'),monthly_deaths=('deaths','sum')))\n",
    "aggregated=aggregated.reset_index().drop([\"index\"], axis=1)\n",
    "aggregated['monthly_cases'] = aggregated['monthly_cases'].mask(aggregated['monthly_cases'] < 0, 0)\n",
    "aggregated['monthly_deaths'] = aggregated['monthly_deaths'].mask(aggregated['monthly_deaths'] < 0, 0)"
   ]
  },
  {
   "cell_type": "code",
   "execution_count": 6,
   "id": "f80223e5",
   "metadata": {},
   "outputs": [],
   "source": [
    "# Saving the data. \n",
    "aggregated.to_csv(\"covid_data_clean.csv\",index=False)"
   ]
  }
 ],
 "metadata": {
  "kernelspec": {
   "display_name": "Python 3 (ipykernel)",
   "language": "python",
   "name": "python3"
  },
  "language_info": {
   "codemirror_mode": {
    "name": "ipython",
    "version": 3
   },
   "file_extension": ".py",
   "mimetype": "text/x-python",
   "name": "python",
   "nbconvert_exporter": "python",
   "pygments_lexer": "ipython3",
   "version": "3.9.12"
  }
 },
 "nbformat": 4,
 "nbformat_minor": 5
}
