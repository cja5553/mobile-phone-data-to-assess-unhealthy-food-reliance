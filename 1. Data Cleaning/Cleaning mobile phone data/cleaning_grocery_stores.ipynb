{
 "cells": [
  {
   "cell_type": "code",
   "execution_count": 1,
   "id": "8b30b69f",
   "metadata": {},
   "outputs": [
    {
     "name": "stdout",
     "output_type": "stream",
     "text": [
      "Reading the Files...\n"
     ]
    },
    {
     "data": {
      "application/vnd.jupyter.widget-view+json": {
       "model_id": "d0f7cbd8d22a44ed8f500cfe80a3702b",
       "version_major": 2,
       "version_minor": 0
      },
      "text/plain": [
       "  0%|          | 0/3 [00:00<?, ?it/s]"
      ]
     },
     "metadata": {},
     "output_type": "display_data"
    },
    {
     "name": "stdout",
     "output_type": "stream",
     "text": [
      "File reading completed!\n"
     ]
    },
    {
     "data": {
      "application/vnd.jupyter.widget-view+json": {
       "model_id": "b5b68991cc864169b9d6149d72de1b74",
       "version_major": 2,
       "version_minor": 0
      },
      "text/plain": [
       "  0%|          | 0/3355892 [00:00<?, ?it/s]"
      ]
     },
     "metadata": {},
     "output_type": "display_data"
    },
    {
     "data": {
      "application/vnd.jupyter.widget-view+json": {
       "model_id": "55342dee1a954db7868f87ffd8eb7ae1",
       "version_major": 2,
       "version_minor": 0
      },
      "text/plain": [
       "  0%|          | 0/3355892 [00:00<?, ?it/s]"
      ]
     },
     "metadata": {},
     "output_type": "display_data"
    },
    {
     "data": {
      "application/vnd.jupyter.widget-view+json": {
       "model_id": "c7e35faba59a4b76ab28198772119d25",
       "version_major": 2,
       "version_minor": 0
      },
      "text/plain": [
       "  0%|          | 0/3355892 [00:00<?, ?it/s]"
      ]
     },
     "metadata": {},
     "output_type": "display_data"
    },
    {
     "name": "stdout",
     "output_type": "stream",
     "text": [
      "Identifying misclassified grocery stores...\n"
     ]
    },
    {
     "data": {
      "application/vnd.jupyter.widget-view+json": {
       "model_id": "ff786025192a4f3b92709123ea7bbbd1",
       "version_major": 2,
       "version_minor": 0
      },
      "text/plain": [
       "  0%|          | 0/103576 [00:03<?, ?it/s]"
      ]
     },
     "metadata": {},
     "output_type": "display_data"
    },
    {
     "data": {
      "application/vnd.jupyter.widget-view+json": {
       "model_id": "cd8990e88e5f4fe4883768725dfc8f4a",
       "version_major": 2,
       "version_minor": 0
      },
      "text/plain": [
       "  0%|          | 0/103576 [00:00<?, ?it/s]"
      ]
     },
     "metadata": {},
     "output_type": "display_data"
    },
    {
     "data": {
      "application/vnd.jupyter.widget-view+json": {
       "model_id": "739290d65780480f8742b893aee3db38",
       "version_major": 2,
       "version_minor": 0
      },
      "text/plain": [
       "  0%|          | 0/103576 [00:00<?, ?it/s]"
      ]
     },
     "metadata": {},
     "output_type": "display_data"
    },
    {
     "data": {
      "application/vnd.jupyter.widget-view+json": {
       "model_id": "5ee9482fe48646e6a5ce86dfb4a1c458",
       "version_major": 2,
       "version_minor": 0
      },
      "text/plain": [
       "  0%|          | 0/103576 [00:00<?, ?it/s]"
      ]
     },
     "metadata": {},
     "output_type": "display_data"
    },
    {
     "name": "stdout",
     "output_type": "stream",
     "text": [
      "number of misclassified grocery stores are:  470\n",
      "Removing misclassified grocery stores...\n",
      "The total number of grocery store chain names selected is: 65227\n",
      "The number of grocery store locations selected is: 101676\n",
      "converting Census-tract level visitation to County-level visitation...\n"
     ]
    },
    {
     "data": {
      "application/vnd.jupyter.widget-view+json": {
       "model_id": "ddca08e98a164d879f0ec3562b3e10ee",
       "version_major": 2,
       "version_minor": 0
      },
      "text/plain": [
       "  0%|          | 0/3342299 [00:00<?, ?it/s]"
      ]
     },
     "metadata": {},
     "output_type": "display_data"
    },
    {
     "data": {
      "application/vnd.jupyter.widget-view+json": {
       "model_id": "a27c565b2d6345d59658143de2414b30",
       "version_major": 2,
       "version_minor": 0
      },
      "text/plain": [
       "  0%|          | 0/3342299 [00:00<?, ?it/s]"
      ]
     },
     "metadata": {},
     "output_type": "display_data"
    },
    {
     "data": {
      "application/vnd.jupyter.widget-view+json": {
       "model_id": "a9ce070edfce4338bfa62fd3961c7c4e",
       "version_major": 2,
       "version_minor": 0
      },
      "text/plain": [
       "  0%|          | 0/19488393 [00:00<?, ?it/s]"
      ]
     },
     "metadata": {},
     "output_type": "display_data"
    },
    {
     "name": "stdout",
     "output_type": "stream",
     "text": [
      "Aggregating the visitation statistics...\n",
      "Saving Data...\n",
      "Data Saved!\n"
     ]
    },
    {
     "data": {
      "text/html": [
       "<div>\n",
       "<style scoped>\n",
       "    .dataframe tbody tr th:only-of-type {\n",
       "        vertical-align: middle;\n",
       "    }\n",
       "\n",
       "    .dataframe tbody tr th {\n",
       "        vertical-align: top;\n",
       "    }\n",
       "\n",
       "    .dataframe thead th {\n",
       "        text-align: right;\n",
       "    }\n",
       "</style>\n",
       "<table border=\"1\" class=\"dataframe\">\n",
       "  <thead>\n",
       "    <tr style=\"text-align: right;\">\n",
       "      <th></th>\n",
       "      <th>date_range_start</th>\n",
       "      <th>county</th>\n",
       "      <th>type</th>\n",
       "      <th>month_count</th>\n",
       "    </tr>\n",
       "  </thead>\n",
       "  <tbody>\n",
       "    <tr>\n",
       "      <th>0</th>\n",
       "      <td>2019-01</td>\n",
       "      <td>01001</td>\n",
       "      <td>supermarket</td>\n",
       "      <td>4312</td>\n",
       "    </tr>\n",
       "    <tr>\n",
       "      <th>1</th>\n",
       "      <td>2019-01</td>\n",
       "      <td>01003</td>\n",
       "      <td>supermarket</td>\n",
       "      <td>10360</td>\n",
       "    </tr>\n",
       "    <tr>\n",
       "      <th>2</th>\n",
       "      <td>2019-01</td>\n",
       "      <td>01005</td>\n",
       "      <td>supermarket</td>\n",
       "      <td>824</td>\n",
       "    </tr>\n",
       "    <tr>\n",
       "      <th>3</th>\n",
       "      <td>2019-01</td>\n",
       "      <td>01007</td>\n",
       "      <td>supermarket</td>\n",
       "      <td>585</td>\n",
       "    </tr>\n",
       "    <tr>\n",
       "      <th>4</th>\n",
       "      <td>2019-01</td>\n",
       "      <td>01009</td>\n",
       "      <td>supermarket</td>\n",
       "      <td>3790</td>\n",
       "    </tr>\n",
       "    <tr>\n",
       "      <th>...</th>\n",
       "      <td>...</td>\n",
       "      <td>...</td>\n",
       "      <td>...</td>\n",
       "      <td>...</td>\n",
       "    </tr>\n",
       "    <tr>\n",
       "      <th>128681</th>\n",
       "      <td>2022-05</td>\n",
       "      <td>56037</td>\n",
       "      <td>supermarket</td>\n",
       "      <td>1237</td>\n",
       "    </tr>\n",
       "    <tr>\n",
       "      <th>128682</th>\n",
       "      <td>2022-05</td>\n",
       "      <td>56039</td>\n",
       "      <td>supermarket</td>\n",
       "      <td>464</td>\n",
       "    </tr>\n",
       "    <tr>\n",
       "      <th>128683</th>\n",
       "      <td>2022-05</td>\n",
       "      <td>56041</td>\n",
       "      <td>supermarket</td>\n",
       "      <td>617</td>\n",
       "    </tr>\n",
       "    <tr>\n",
       "      <th>128684</th>\n",
       "      <td>2022-05</td>\n",
       "      <td>56043</td>\n",
       "      <td>supermarket</td>\n",
       "      <td>195</td>\n",
       "    </tr>\n",
       "    <tr>\n",
       "      <th>128685</th>\n",
       "      <td>2022-05</td>\n",
       "      <td>56045</td>\n",
       "      <td>supermarket</td>\n",
       "      <td>189</td>\n",
       "    </tr>\n",
       "  </tbody>\n",
       "</table>\n",
       "<p>128686 rows × 4 columns</p>\n",
       "</div>"
      ],
      "text/plain": [
       "       date_range_start county         type  month_count\n",
       "0               2019-01  01001  supermarket         4312\n",
       "1               2019-01  01003  supermarket        10360\n",
       "2               2019-01  01005  supermarket          824\n",
       "3               2019-01  01007  supermarket          585\n",
       "4               2019-01  01009  supermarket         3790\n",
       "...                 ...    ...          ...          ...\n",
       "128681          2022-05  56037  supermarket         1237\n",
       "128682          2022-05  56039  supermarket          464\n",
       "128683          2022-05  56041  supermarket          617\n",
       "128684          2022-05  56043  supermarket          195\n",
       "128685          2022-05  56045  supermarket          189\n",
       "\n",
       "[128686 rows x 4 columns]"
      ]
     },
     "execution_count": 1,
     "metadata": {},
     "output_type": "execute_result"
    }
   ],
   "source": [
    "# loading packages\n",
    "import glob\n",
    "import gzip\n",
    "import tqdm.notebook as tq\n",
    "import json\n",
    "import re\n",
    "import pandas as pd\n",
    "import numpy as np\n",
    "\n",
    "# reading and combining all of the files \n",
    "## (note: safegraph provided the dataset in multiple .gz and .csv folders)\n",
    "print(\"Reading the Files...\")\n",
    "ZIPFILES='*.gz'\n",
    "filelist = glob.glob(ZIPFILES)\n",
    "\n",
    "df = pd.DataFrame()\n",
    "for gzfile in tq.tqdm(filelist):\n",
    "    if len(df)==0:\n",
    "        df=pd.read_csv(gzfile)\n",
    "    else:\n",
    "        data = pd.read_csv(gzfile)\n",
    "        df=pd.concat([data,df])\n",
    "print(\"File reading completed!\")\n",
    "## only selecting columns of interest\n",
    "df_select = df[[\"placekey\",\"parent_placekey\",\"location_name\",\"street_address\",\"city\",\"region\",\"brands\",\"date_range_start\",\n",
    "               \"poi_cbg\",\"visitor_home_aggregation\",\"distance_from_home\"]]\n",
    "df_select=df_select.sort_values(by=\"date_range_start\")\n",
    "\n",
    "## converting elements of columns them to its rightful type (i.e., dictionary for \"visitor_home_aggregation\" & str for \"placekey\")\n",
    "df_select[\"visitor_home_aggregation\"]=[json.loads(i) for i in tq.tqdm(list(df_select[\"visitor_home_aggregation\"]))]\n",
    "df_select[\"date_range_start\"]=[str((str(i))[:7]) for i in tq.tqdm(df_select.date_range_start)]\n",
    "df_select = df_select.reset_index()\n",
    "df_select[\"placekey\"]=[str(i) for i in tq.tqdm(df_select[\"placekey\"])]\n",
    "df_select\n",
    "\n",
    "\n",
    "# inspecting all the stores and removing POIs that have been classified wrongly as grocery stores. \n",
    "\n",
    "print(\"Identifying misclassified grocery stores...\")\n",
    "stores=df_select[[\"placekey\",\"location_name\"]]\n",
    "stores=stores.drop_duplicates()\n",
    "## removing punctuation and special characters from the location names of our stores so it can be easier to filter them accordingly\n",
    "stores[\"location_name\"]=[(re.sub(r'[^\\w\\s]', '', i)) for i in tq.tqdm(stores[\"location_name\"])]\n",
    "## lower spacing all of the location names so it can be easy to filter them by location name\n",
    "stores[\"location_name\"]=[i.lower() for i in tq.tqdm(stores[\"location_name\"])]\n",
    "stores[\"location_name\"]=[i.split() for i in tq.tqdm(stores[\"location_name\"])]\n",
    "stores = stores.reset_index()\n",
    "stores\n",
    "\n",
    "# removing stores that have been wrongly misclassified as grocery stores\n",
    "# identifying placekeys of misclassified grocery-stores\n",
    "black_list=[]\n",
    "for i in tq.tqdm(range(len(stores))):\n",
    "    current=stores.location_name[i]\n",
    "    current_placekey=str(stores.placekey[i])\n",
    "    \n",
    "    # terminologies that are clearly not associated with grocery stores. \n",
    "    list_of_unwanted=[\"bar\",\"bars\",\"sandwich\",\"sandwiches\",\"sandwichs\",\"bakery\",\"donut\",\n",
    "                     \"donuts\",\"bakerys\",\"bakeries\",\"cafe\",\"cafes\",\"coffee\",\"coffees\",\"pizza\",\"pizzas\",\"bagel\",\"bagels\",\n",
    "                     \"furniture\",\"furnitures\",\"hardware\",\"hardwares\",\"dicks\",\"sport\",\"sports\",\n",
    "                     \"electronic\",\"electronical\",\"electric\",\"electronics\",\"clothing\",\"clothes\",\"technology\",\n",
    "                     \"technological\",\"technical\",\"technology\"]\n",
    "    \n",
    "    # list of exceptions - if the location name is a combination of unwanted terminologies but contains terminologies that clearly signify some grocery store, they are included. \n",
    "    list_of_exceptions=[\"grocery\",\"groceries\",\"supermarket\",\"supermarkets\",\"market\",\"markets\",\"farm\",\"farmers\",\"farms\",\"produce\"]\n",
    "    \n",
    "    if current_placekey in black_list:\n",
    "        continue\n",
    "    elif set(current)&set(list_of_exceptions): # some supermarkets may be multipurpose (eg contain a grocery-store and a cafe), we want to preserve such cases\n",
    "        continue\n",
    "    elif set(current)&set(list_of_unwanted): # remove options which are clearly not supermarkets (eg bars)\n",
    "        black_list.append(str(current_placekey))\n",
    "    else:\n",
    "        continue\n",
    "\n",
    "print(\"number of misclassified grocery stores are: \", len(black_list))\n",
    "\n",
    "\n",
    "## removing our identified and extracted misclassified grocery-stores from our data. \n",
    "print(\"Removing misclassified grocery stores...\")\n",
    "\n",
    "df_select=df_select[~df_select['placekey'].isin(black_list)] \n",
    "df_select = df_select.reset_index()\n",
    "df_select=df_select.sort_values(by=\"date_range_start\")\n",
    "df_select\n",
    "## cleaning the dataframe\n",
    "df_select=df_select.drop(['level_0', 'index'], axis=1)\n",
    "df_select\n",
    "print(\"The total number of grocery store chain names selected is:\",len(list(np.unique(np.array(df_select[\"location_name\"])))))\n",
    "print(\"The number of grocery store locations selected is:\",len(list(np.unique(np.array(df_select[\"placekey\"])))))\n",
    "\n",
    "print(\"converting Census-tract level visitation to County-level visitation...\")\n",
    "\n",
    "\n",
    "# scaling-up the visitation data from census tract to county level\n",
    "## This function converts the census tract to county's\n",
    "def conv_to_county(dictionary):\n",
    "    new_dict={}\n",
    "    in_the_system=[]\n",
    "    for i in dictionary.keys():\n",
    "        if str(i[:5]) in in_the_system:\n",
    "            old_value=int(new_dict[str(i[:5])])\n",
    "            to_be_added=int(dictionary[str(i)])\n",
    "            new_value=int(old_value+to_be_added)\n",
    "            new_dict[str(i[:5])]=new_value\n",
    "        else:\n",
    "            new_dict[str(i[:5])]=int(dictionary[i])\n",
    "            in_the_system.append(str(i[:5]))\n",
    "    return(new_dict)\n",
    "\n",
    "## This function compiles the visitations based on county's visitors\n",
    "def home_county(list_of_tract):\n",
    "    county_list=[]\n",
    "    for i in tq.tqdm(range(len(list_of_tract))):\n",
    "        current=list_of_tract[i]\n",
    "        new=conv_to_county(current)\n",
    "        county_list.append(new)\n",
    "    return(county_list)\n",
    "\n",
    "df_select[\"home_county\"]=home_county(df_select[\"visitor_home_aggregation\"])\n",
    "\n",
    "\n",
    "# transforming the dataframe such we can now see visitors to each store from each county  \n",
    "def detailed_long_df(old_df):\n",
    "    location_list,placekey_list,date_range_start_list,county_list,count_list=[],[],[],[],[]\n",
    "    for i in tq.tqdm(range(len(df_select))):\n",
    "        location_name,placekey,date_range_start=(df_select[\"location_name\"][i]),(df_select[\"placekey\"][i]),(df_select[\"date_range_start\"][i])\n",
    "        current_home_county=(df_select[\"home_county\"][i])\n",
    "        for j in current_home_county.keys():\n",
    "            ## removing visitors from Canada\n",
    "            try:\n",
    "                x=int(j) \n",
    "            except ValueError:\n",
    "                j=\"NULL\"\n",
    "            if j==\"NULL\":\n",
    "                count=0\n",
    "            else:\n",
    "                county=str(j)\n",
    "                count=int(current_home_county[j])\n",
    "            location_list.append(location_name)\n",
    "            placekey_list.append(placekey)\n",
    "            date_range_start_list.append(date_range_start)\n",
    "            county_list.append(county)\n",
    "            count_list.append(count)\n",
    "    df_detail = pd.DataFrame(list(zip(location_list,placekey_list,date_range_start_list,county_list,count_list)), columns =['location','placekey','date_range_start','county','count'])\n",
    "    return(df_detail)\n",
    "## executing the function above\n",
    "df_detail=detailed_long_df(df_select)\n",
    "\n",
    "## Cleaning the data to prepare for aggregation \n",
    "df_detail=df_detail[df_detail[\"county\"].str.contains(\"NULL\")==False] # removing Canada visitors\n",
    "df_detail[\"type\"]=[\"supermarket\" for i in tq.tqdm(range(len(df_detail)))]\n",
    "\n",
    "# aggregating county_level visitor stats to grocery stores\n",
    "print(\"Aggregating the visitation statistics...\")\n",
    "aggregated=(df_detail.groupby(['date_range_start','county','type']).agg(month_count=('count', 'sum')))\n",
    "aggregated = aggregated.reset_index()\n",
    "# saving csv file\n",
    "print(\"Saving Data...\")\n",
    "aggregated.to_csv(\"grocery_aggregated_by_county.csv\", index=False)\n",
    "print(\"Data Saved!\")\n",
    "aggregated"
   ]
  },
  {
   "cell_type": "code",
   "execution_count": null,
   "id": "fffd9775",
   "metadata": {},
   "outputs": [],
   "source": []
  }
 ],
 "metadata": {
  "kernelspec": {
   "display_name": "Python 3 (ipykernel)",
   "language": "python",
   "name": "python3"
  },
  "language_info": {
   "codemirror_mode": {
    "name": "ipython",
    "version": 3
   },
   "file_extension": ".py",
   "mimetype": "text/x-python",
   "name": "python",
   "nbconvert_exporter": "python",
   "pygments_lexer": "ipython3",
   "version": "3.9.12"
  }
 },
 "nbformat": 4,
 "nbformat_minor": 5
}
