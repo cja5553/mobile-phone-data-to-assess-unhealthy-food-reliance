{
 "cells": [
  {
   "cell_type": "code",
   "execution_count": null,
   "id": "8810b4c1",
   "metadata": {},
   "outputs": [
    {
     "name": "stdout",
     "output_type": "stream",
     "text": [
      "reading CSV file...\n"
     ]
    },
    {
     "data": {
      "application/vnd.jupyter.widget-view+json": {
       "model_id": "f3822f1626c5417fb65a83b9234356aa",
       "version_major": 2,
       "version_minor": 0
      },
      "text/plain": [
       "  0%|          | 0/16 [00:00<?, ?it/s]"
      ]
     },
     "metadata": {},
     "output_type": "display_data"
    },
    {
     "name": "stdout",
     "output_type": "stream",
     "text": [
      "csv file reading completed\n"
     ]
    },
    {
     "data": {
      "application/vnd.jupyter.widget-view+json": {
       "model_id": "27131c9d92614606a21950a193f26192",
       "version_major": 2,
       "version_minor": 0
      },
      "text/plain": [
       "  0%|          | 0/16126887 [00:00<?, ?it/s]"
      ]
     },
     "metadata": {},
     "output_type": "display_data"
    },
    {
     "data": {
      "application/vnd.jupyter.widget-view+json": {
       "model_id": "e2e1257d99dc4459bf238200cf10507d",
       "version_major": 2,
       "version_minor": 0
      },
      "text/plain": [
       "  0%|          | 0/16126887 [00:00<?, ?it/s]"
      ]
     },
     "metadata": {},
     "output_type": "display_data"
    },
    {
     "data": {
      "application/vnd.jupyter.widget-view+json": {
       "model_id": "733fe13e16204e4d87b487b049c0b683",
       "version_major": 2,
       "version_minor": 0
      },
      "text/plain": [
       "  0%|          | 0/16126887 [00:00<?, ?it/s]"
      ]
     },
     "metadata": {},
     "output_type": "display_data"
    },
    {
     "data": {
      "application/vnd.jupyter.widget-view+json": {
       "model_id": "d4efa83fce57431fb6c230f735a28b52",
       "version_major": 2,
       "version_minor": 0
      },
      "text/plain": [
       "  0%|          | 0/16126887 [00:00<?, ?it/s]"
      ]
     },
     "metadata": {},
     "output_type": "display_data"
    },
    {
     "data": {
      "application/vnd.jupyter.widget-view+json": {
       "model_id": "3ef4796d921648208d65ccdc7ab91685",
       "version_major": 2,
       "version_minor": 0
      },
      "text/plain": [
       "  0%|          | 0/16126887 [00:00<?, ?it/s]"
      ]
     },
     "metadata": {},
     "output_type": "display_data"
    },
    {
     "name": "stdout",
     "output_type": "stream",
     "text": [
      "Removing wrongly classified POIs\n",
      "Wrongly classified POIs removed!\n",
      "The total number of restaurant chain names selected is: 364289\n",
      "The number of restaurant locations selected is: 537242\n",
      "converting from census-tract to county...\n"
     ]
    },
    {
     "data": {
      "application/vnd.jupyter.widget-view+json": {
       "model_id": "75c8960d13ad4b9194155270abbfea34",
       "version_major": 2,
       "version_minor": 0
      },
      "text/plain": [
       "  0%|          | 0/15976351 [00:00<?, ?it/s]"
      ]
     },
     "metadata": {},
     "output_type": "display_data"
    },
    {
     "name": "stdout",
     "output_type": "stream",
     "text": [
      "converted from census-tract to county!\n",
      "transforming the dataframe...\n"
     ]
    },
    {
     "data": {
      "application/vnd.jupyter.widget-view+json": {
       "model_id": "4b8aaeee050944ddb40aef84bd14017b",
       "version_major": 2,
       "version_minor": 0
      },
      "text/plain": [
       "  0%|          | 0/15976351 [00:00<?, ?it/s]"
      ]
     },
     "metadata": {},
     "output_type": "display_data"
    },
    {
     "data": {
      "application/vnd.jupyter.widget-view+json": {
       "model_id": "e63b035949de41b5ad6310f56ef2b4bc",
       "version_major": 2,
       "version_minor": 0
      },
      "text/plain": [
       "  0%|          | 0/117068135 [00:00<?, ?it/s]"
      ]
     },
     "metadata": {},
     "output_type": "display_data"
    },
    {
     "name": "stdout",
     "output_type": "stream",
     "text": [
      "dataframe transformed!\n",
      "aggregating county level visitation...\n"
     ]
    }
   ],
   "source": [
    "import glob\n",
    "import gzip\n",
    "import tqdm.notebook as tq\n",
    "import json\n",
    "import pandas as pd\n",
    "import os\n",
    "import re\n",
    "import numpy as np\n",
    "print(\"reading CSV file...\")\n",
    "\n",
    "# reading and combining all of the files \n",
    "## (note: safegraph provided the dataset in multiple .gz and .csv folders)\n",
    "ZIPFILES='*.gz'\n",
    "filelist = glob.glob(ZIPFILES)\n",
    "\n",
    "df_select = pd.DataFrame()\n",
    "for gzfile in tq.tqdm(filelist):\n",
    "    if len(df_select)==0:\n",
    "        df_select=pd.read_csv(gzfile)\n",
    "        ## only selecting columns of interest\n",
    "        df_select = df_select[[\"placekey\",\"location_name\",\"date_range_start\",\"visitor_home_aggregation\"]]\n",
    "    else:\n",
    "        data = pd.read_csv(gzfile)\n",
    "        ## only selecting columns of interest\n",
    "        data = data[[\"placekey\",\"location_name\",\"date_range_start\",\"visitor_home_aggregation\"]]\n",
    "        df_select=pd.concat([data,df_select])\n",
    "print(\"csv file reading completed\")\n",
    "\n",
    "## converting elements of columns them to its rightful type (i.e., dictionary for \"visitor_home_aggregation\" & str for \"placekey\")\n",
    "df_select[\"date_range_start\"]=[str((str(i))[:7]) for i in tq.tqdm(df_select.date_range_start)]\n",
    "df_select[\"visitor_home_aggregation\"]=[json.loads(i) for i in tq.tqdm(df_select.visitor_home_aggregation)]\n",
    "df_select[\"location_name\"]=[str(i) for i in tq.tqdm(df_select.location_name)]\n",
    "df_select[\"location_name\"]=[(re.sub(r'[^\\w\\s]', '', i)) for i in tq.tqdm(df_select.location_name)]\n",
    "df_select[\"location_name\"]=[i.lower() for i in tq.tqdm(df_select.location_name)]\n",
    "\n",
    "# inspecting all the stores and removing POIs that have been classified wrongly as grocery stores. \n",
    "## some stores that belong to the fast-food category are classified as full-service here, we shall remove them. \n",
    "list_of_unwanted=[\"moes southwest grill\",\"culvers\",\"bojangles\",\"panera bread\",\"marcos pizza\",\"raising canes\"]\n",
    "\n",
    "print(\"Removing wrongly classified POIs\")\n",
    "df_select=df_select[~df_select['location_name'].isin(list_of_unwanted)]\n",
    "print(\"Wrongly classified POIs removed!\")\n",
    "\n",
    "\n",
    "df_select=df_select.sort_values(by=[\"date_range_start\"])\n",
    "df_select=df_select.reset_index()\n",
    "df_select=df_select.drop(columns=[\"index\"])\n",
    "print(\"The total number of restaurant chain names selected is:\",len(list(np.unique(np.array(df_select[\"location_name\"])))))\n",
    "print(\"The number of restaurant locations selected is:\",len(list(np.unique(np.array(df_select[\"placekey\"])))))\n",
    "\n",
    "\n",
    "# scaling-up the visitation data from census tract to county level\n",
    "## This function converts the census tract to county's\n",
    "def conv_to_county(dictionary):\n",
    "    new_dict={}\n",
    "    in_the_system=[]\n",
    "    for i in dictionary.keys():\n",
    "        #try:\n",
    "        #    i=str(i)\n",
    "        #except TypeError:\n",
    "        #    i=\"NULL\"\n",
    "        #i=str(i)\n",
    "        #if len(i)==10:\n",
    "        #    i=\"0\"+i\n",
    "        #elif len(i)==11:\n",
    "        #    i=i\n",
    "        #else:\n",
    "        #    i=\"NULL\"\n",
    "        if str(i[:5]) in in_the_system:\n",
    "            old_value=int(new_dict[str(i[:5])])\n",
    "            to_be_added=int(dictionary[str(i)])\n",
    "            new_value=int(old_value+to_be_added)\n",
    "            new_dict[str(i[:5])]=new_value\n",
    "        else:\n",
    "            new_dict[str(i[:5])]=int(dictionary[i])\n",
    "            in_the_system.append(str(i[:5]))\n",
    "    return(new_dict)\n",
    "\n",
    "## This function compiles the visitations based on county's visitors\n",
    "def home_county(list_of_tract):\n",
    "    county_list=[]\n",
    "    for i in tq.tqdm(range(len(list_of_tract))):\n",
    "        current=list_of_tract[i]\n",
    "        new=conv_to_county(current)\n",
    "        county_list.append(new)\n",
    "    return(county_list)\n",
    "print(\"converting from census-tract to county...\")\n",
    "df_select[\"home_county\"]=home_county(df_select[\"visitor_home_aggregation\"])\n",
    "print(\"converted from census-tract to county!\")\n",
    "\n",
    "\n",
    "# transforming the dataframe such we can now see visitors to each store from each county  \n",
    "def detailed_long_df(old_df):\n",
    "    location_list,placekey_list,date_range_start_list,county_list,count_list=[],[],[],[],[]\n",
    "    for i in tq.tqdm(range(len(df_select))):\n",
    "        location_name,placekey,date_range_start=(df_select[\"location_name\"][i]),(df_select[\"placekey\"][i]),(df_select[\"date_range_start\"][i])\n",
    "        current_home_county=(df_select[\"home_county\"][i])\n",
    "        for j in current_home_county.keys():\n",
    "            # remove visitors from Canada\n",
    "            try:\n",
    "                x=int(j) \n",
    "            except ValueError:\n",
    "                j=\"NULL\"\n",
    "            if j==\"NULL\":\n",
    "                count=0\n",
    "            else:\n",
    "                county=str(j)\n",
    "                count=int(current_home_county[j])\n",
    "            location_list.append(location_name)\n",
    "            placekey_list.append(placekey)\n",
    "            date_range_start_list.append(date_range_start)\n",
    "            county_list.append(county)\n",
    "            count_list.append(count)\n",
    "    df_detail = pd.DataFrame(list(zip(location_list,placekey_list,date_range_start_list,county_list,count_list)), columns =['location','placekey','date_range_start','county','count'])\n",
    "    return(df_detail)\n",
    "\n",
    "## executing the function above\n",
    "print(\"transforming the dataframe...\")\n",
    "df_detail=detailed_long_df(df_select)\n",
    "\n",
    "## Cleaning the data to prepare for aggregation \n",
    "df_detail=df_detail[df_detail[\"county\"].str.contains(\"NULL\")==False] # removing Canada visitors\n",
    "df_detail[\"type\"]=[\"full_service_restaurant\" for i in tq.tqdm(range(len(df_detail)))]\n",
    "#df_detail.to_csv('full_service_neat.csv') # saving for safe-measure in case Jupyter collapses\n",
    "print(\"dataframe transformed!\")\n",
    "\n",
    "# aggregating county_level visitor stats to grocery stores\n",
    "print(\"aggregating county level visitation...\")\n",
    "aggregated=(df_detail.groupby(['date_range_start','county','type']).agg(month_count=('count', 'sum')))\n",
    "aggregated = aggregated.reset_index()\n",
    "print(\"data aggregated!\")\n",
    "print(\"saving the CSV file...\")\n",
    "\n",
    "# saving csv file\n",
    "aggregated.to_csv(\"full_service_restaurant_by_county.csv\")\n",
    "print(\"CSV file saved!\")"
   ]
  },
  {
   "cell_type": "code",
   "execution_count": null,
   "id": "b16c2c42",
   "metadata": {},
   "outputs": [],
   "source": []
  }
 ],
 "metadata": {
  "kernelspec": {
   "display_name": "Python 3 (ipykernel)",
   "language": "python",
   "name": "python3"
  },
  "language_info": {
   "codemirror_mode": {
    "name": "ipython",
    "version": 3
   },
   "file_extension": ".py",
   "mimetype": "text/x-python",
   "name": "python",
   "nbconvert_exporter": "python",
   "pygments_lexer": "ipython3",
   "version": "3.9.12"
  }
 },
 "nbformat": 4,
 "nbformat_minor": 5
}
