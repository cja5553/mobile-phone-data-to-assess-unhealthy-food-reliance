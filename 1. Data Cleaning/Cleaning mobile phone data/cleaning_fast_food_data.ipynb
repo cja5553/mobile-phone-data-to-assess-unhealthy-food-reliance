{
 "cells": [
  {
   "cell_type": "code",
   "execution_count": 1,
   "id": "5d810aeb",
   "metadata": {},
   "outputs": [
    {
     "name": "stdout",
     "output_type": "stream",
     "text": [
      "reading files\n"
     ]
    },
    {
     "data": {
      "application/vnd.jupyter.widget-view+json": {
       "model_id": "c4d5ed42ed994663971d6f1f7d6aaa66",
       "version_major": 2,
       "version_minor": 0
      },
      "text/plain": [
       "  0%|          | 0/11 [00:00<?, ?it/s]"
      ]
     },
     "metadata": {},
     "output_type": "display_data"
    },
    {
     "name": "stdout",
     "output_type": "stream",
     "text": [
      "files read, converting columns to their appropriate format\n"
     ]
    },
    {
     "data": {
      "application/vnd.jupyter.widget-view+json": {
       "model_id": "50b028b6e6cc4c8a8f4257c939779e79",
       "version_major": 2,
       "version_minor": 0
      },
      "text/plain": [
       "  0%|          | 0/9279520 [00:00<?, ?it/s]"
      ]
     },
     "metadata": {},
     "output_type": "display_data"
    },
    {
     "data": {
      "application/vnd.jupyter.widget-view+json": {
       "model_id": "96be8b291ac24be5872ddcf9f125828e",
       "version_major": 2,
       "version_minor": 0
      },
      "text/plain": [
       "  0%|          | 0/9279520 [00:00<?, ?it/s]"
      ]
     },
     "metadata": {},
     "output_type": "display_data"
    },
    {
     "name": "stdout",
     "output_type": "stream",
     "text": [
      "identifying the correctly classified fast-food restaurants...\n"
     ]
    },
    {
     "data": {
      "application/vnd.jupyter.widget-view+json": {
       "model_id": "6e84eeef10884c138637ccb0a87c384f",
       "version_major": 2,
       "version_minor": 0
      },
      "text/plain": [
       "  0%|          | 0/289628 [00:00<?, ?it/s]"
      ]
     },
     "metadata": {},
     "output_type": "display_data"
    },
    {
     "data": {
      "application/vnd.jupyter.widget-view+json": {
       "model_id": "69d7814061c647079ca8746bd0937d7a",
       "version_major": 2,
       "version_minor": 0
      },
      "text/plain": [
       "  0%|          | 0/289628 [00:00<?, ?it/s]"
      ]
     },
     "metadata": {},
     "output_type": "display_data"
    },
    {
     "data": {
      "application/vnd.jupyter.widget-view+json": {
       "model_id": "6a9e0022e12241aebaa33c296363a5ae",
       "version_major": 2,
       "version_minor": 0
      },
      "text/plain": [
       "  0%|          | 0/289628 [00:00<?, ?it/s]"
      ]
     },
     "metadata": {},
     "output_type": "display_data"
    },
    {
     "data": {
      "application/vnd.jupyter.widget-view+json": {
       "model_id": "8f42e42102864b3b9e70c9d15a780d1b",
       "version_major": 2,
       "version_minor": 0
      },
      "text/plain": [
       "  0%|          | 0/289628 [00:00<?, ?it/s]"
      ]
     },
     "metadata": {},
     "output_type": "display_data"
    },
    {
     "name": "stdout",
     "output_type": "stream",
     "text": [
      "Extracting correctly classified fast-food restaurants\n",
      "The data after extracting correctly classified fast-food restaurants looks like this: \n",
      "          level_0   index             placekey   location_name  \\\n",
      "0              0       0  223-222@8f2-d56-835  Raising Cane's   \n",
      "1              1       1  223-224@646-hpx-hyv  Raising Cane's   \n",
      "2              2       2  zzy-223@8dx-77q-sqz  Raising Cane's   \n",
      "3              3       3  zzw-223@63v-b6v-sdv  Raising Cane's   \n",
      "4              4       4  zzw-222@8t8-fn6-pvz  Raising Cane's   \n",
      "...          ...     ...                  ...             ...   \n",
      "5959032  9279513  989670  zzy-226@65z-fmn-q4v          Subway   \n",
      "5959033  9279515  989672  zzy-227@8sz-dv5-vs5     Burger King   \n",
      "5959034  9279516  989673  zzy-228@5pv-sw3-7t9          Subway   \n",
      "5959035  9279518  989675  zzy-228@8t2-8k5-7h5          Subway   \n",
      "5959036  9279519  989676  zzy-22b@627-zcy-w8v          Subway   \n",
      "\n",
      "                    street_address date_range_start  \\\n",
      "0                  2395 Airline Dr          2021-04   \n",
      "1                    501 E 10th St          2021-04   \n",
      "2                  14929 Market St          2021-04   \n",
      "3                14115 Detroit Ave          2021-03   \n",
      "4         2120 S 77 Sunshine Strip          2021-03   \n",
      "...                            ...              ...   \n",
      "5959032          3622 Nys Route 79          2019-11   \n",
      "5959033              11710 N Ih 35          2019-11   \n",
      "5959034           101 West Main St          2019-11   \n",
      "5959035           844 South Hwy 83          2019-11   \n",
      "5959036  Ctr Routes 22 & 138 Store          2019-11   \n",
      "\n",
      "                                  visitor_home_aggregation  \n",
      "0        {'22015011108': 374, '22015011109': 165, '2201...  \n",
      "1        {'37147000400': 93, '37147000100': 70, '371470...  \n",
      "2        {'22033004508': 102, '22033003906': 85, '22033...  \n",
      "3        {'39085203500': 13, '39035160500': 9, '3908520...  \n",
      "4        {'48061010800': 59, '48061010601': 42, '480610...  \n",
      "...                                                    ...  \n",
      "5959032  {'36007012300': 32, '36017970900': 9, '3600701...  \n",
      "5959033  {'48491021601': 10, '48397040302': 6, '4801396...  \n",
      "5959034  {'17035972500': 40, '17035972600': 14, '170359...  \n",
      "5959035  {'48385950100': 8, '48463950200': 4, '48267950...  \n",
      "5959036  {'36079011300': 5, '09001042500': 5, '36119012...  \n",
      "\n",
      "[5959037 rows x 7 columns]\n",
      "The total number of fast-food restaurant chain names selected is: 63\n",
      "The number of fast-food restaurant locations selected is: 155415\n",
      "converting our visitation dataset from census-tract level to county-level...\n"
     ]
    },
    {
     "data": {
      "application/vnd.jupyter.widget-view+json": {
       "model_id": "14e619500f7b4b6abb7cf61563af1b85",
       "version_major": 2,
       "version_minor": 0
      },
      "text/plain": [
       "  0%|          | 0/5959037 [00:00<?, ?it/s]"
      ]
     },
     "metadata": {},
     "output_type": "display_data"
    },
    {
     "name": "stdout",
     "output_type": "stream",
     "text": [
      "converted from census-tract to county!\n",
      "transforming the dataframe...\n"
     ]
    },
    {
     "data": {
      "application/vnd.jupyter.widget-view+json": {
       "model_id": "dc491ad3f2c54ffa9a53d821c01b2517",
       "version_major": 2,
       "version_minor": 0
      },
      "text/plain": [
       "  0%|          | 0/5959037 [00:00<?, ?it/s]"
      ]
     },
     "metadata": {},
     "output_type": "display_data"
    },
    {
     "data": {
      "application/vnd.jupyter.widget-view+json": {
       "model_id": "174aa05ef1594b44b96c45ed17255a64",
       "version_major": 2,
       "version_minor": 0
      },
      "text/plain": [
       "  0%|          | 0/67683792 [00:00<?, ?it/s]"
      ]
     },
     "metadata": {},
     "output_type": "display_data"
    },
    {
     "name": "stdout",
     "output_type": "stream",
     "text": [
      "dataframe transformed!\n",
      "aggregating county level visitation...\n",
      "data aggregated!\n",
      "saving the CSV file...\n",
      "CSV file saved!\n"
     ]
    }
   ],
   "source": [
    "# loading packages\n",
    "import glob\n",
    "import gzip\n",
    "import tqdm.notebook as tq\n",
    "import json\n",
    "import numpy as np\n",
    "import pandas as pd\n",
    "\n",
    "print(\"reading files\")\n",
    "# reading and combining all of the files \n",
    "## (note: safegraph provided the dataset in multiple .gz and .csv folders)\n",
    "ZIPFILES='*.gz'\n",
    "filelist = glob.glob(ZIPFILES)\n",
    "df_select = pd.DataFrame()\n",
    "for gzfile in tq.tqdm(filelist):\n",
    "    if len(df_select)==0:\n",
    "        df_select=pd.read_csv(gzfile)\n",
    "        df_select=df_select[[\"placekey\",\"location_name\",\"street_address\",\"date_range_start\",\"visitor_home_aggregation\"]]\n",
    "        df_select = df_select[df_select['visitor_home_aggregation'].notna()]\n",
    "    else:\n",
    "        data = pd.read_csv(gzfile)\n",
    "        data=data[[\"placekey\",\"location_name\",\"street_address\",\"date_range_start\",\"visitor_home_aggregation\"]]\n",
    "        data = data[data['visitor_home_aggregation'].notna()]\n",
    "        df_select=pd.concat([data,df_select])\n",
    "## reading raising canes which was manually extracted (it was wrongly classified by SafeGraph as a full-service restaurant)\n",
    "data=pd.read_csv(\"raising_canes.csv\")\n",
    "data=data[[\"placekey\",\"location_name\",\"street_address\",\"date_range_start\",\"visitor_home_aggregation\"]]\n",
    "## adding raising canes to our dataset\n",
    "df_select=pd.concat([data,df_select])\n",
    "print(\"files read, converting columns to their appropriate format\")\n",
    "\n",
    "\n",
    "# Cleaning our data \n",
    "df_select=df_select.drop_duplicates()\n",
    "df_select=df_select.reset_index()\n",
    "\n",
    "## Converting our data columns into its appropriate data-types\n",
    "### converting dates into monthly format\n",
    "df_select[\"date_range_start\"]=[str((str(i))[:7]) for i in tq.tqdm(df_select.date_range_start)]\n",
    "### the visitor home aggregation is supposed to be a dictionary but is somehow read as a string - converting them into dictionary's\n",
    "df_select[\"visitor_home_aggregation\"]=[json.loads(i) for (i) in tq.tqdm(df_select.visitor_home_aggregation)]\n",
    "### converting placekeys into strings (some are read as integers)\n",
    "df_select[\"placekey\"]=[str(i) for i in list(df_select.placekey)]\n",
    "\n",
    "\n",
    "print(\"identifying the correctly classified fast-food restaurants...\")\n",
    "\n",
    "\n",
    "# inspecting all the stores and including stores that are relevant to our defintion of fast-food restaurants. \n",
    "import re\n",
    "stores=df_select[[\"placekey\",\"location_name\"]]\n",
    "stores=stores.drop_duplicates()\n",
    "stores[\"location_name\"]=[str(i) for i in tq.tqdm(stores[\"location_name\"])]\n",
    "## removing punctuation and special characters from the location names of our stores so it can be easier to filter them accordingly\n",
    "stores[\"location_name\"]=[(re.sub(r'[^\\w\\s]', '', i)) for i in tq.tqdm(stores[\"location_name\"])] \n",
    "## lower spacing all of the location names so it can be easy to filter them by location name\n",
    "stores[\"location_name\"]=[i.lower() for i in tq.tqdm(stores[\"location_name\"])]\n",
    "stores[\"placekey\"]=[str(i) for i in stores[\"placekey\"]]\n",
    "stores = stores.reset_index()\n",
    "stores=stores.drop([\"index\"],axis=1)\n",
    "\n",
    "## The list of our predefined fast-food restaurants. \n",
    "fast_food_list=[\"mcdonald\",\"mcdonalds\",\"innout burger\",\"starbuck\",\"starbucks\",\"chickfila\",\"taco bell\",\"wendys\",\n",
    "                \"burger king\",\"dunkin\",\"subway\",\"dominos pizza\",\"chipotle mexican grill\",\"sonic\",\n",
    "               \"panera bread\",\"pizza hut\",\"kfc\",\"kentucky fried chicken\",\"popeyes louisiana kitchen\",\n",
    "               \"popeyes\",\"arbys\",\"little caesars\",\"dairy queen\",\"panda express\",\"jack in the box\",\"papa johns\",\n",
    "                \"whataburger\",\"wingstop\",\"zaxbys\",\"hardees\",\"culvers\",\"jimmy johns\",\"raising canes\",\"five guys\",\n",
    "               \"jersey mikes\",\"carls jr\",\"bojangles\",\"el pollo loco\",\"del taco\",\"rallys drivein restaurants\",\n",
    "               \"checkers drivein restaurants\",\"firehouse subs\",\"krispy kreme\", \"krispy kreme doughnuts\",\"papa murphys\",\n",
    "               \"steak n shake\",\"qdoba mexican grill\",\"qdoba\",\"marcos pizza\",\"churchs chicken\",\"tim hortons\",\n",
    "                \"tropical smoothie café\",\"tropical smoothie cafe\",\"freddys frozen custard\",\"mcalisters deli\",\"baskin robbins\",\"white castle\",\n",
    "               \"moes southwest grill\"]\n",
    "## Here we extract the list of placekeys (or store locations) in which the brand name of the placekeys are that of our pre-defined fast-food restaurants. \n",
    "placekey_list,name_list=[],[]\n",
    "for i in tq.tqdm(range(len(stores))):\n",
    "    name=str(stores.location_name[i])\n",
    "    current_placekey=str(stores.placekey[i])\n",
    "    if name in fast_food_list:\n",
    "        name_list.append(name)\n",
    "        placekey_list.append(current_placekey)\n",
    "    else:\n",
    "        continue\n",
    "\n",
    "\n",
    "print(\"Extracting correctly classified fast-food restaurants\")\n",
    "\n",
    "## Extracting correctly classified fast-food restaurants from our data.\n",
    "placekey_list = [*set(placekey_list)]\n",
    "placekey_list=[str(i) for i in placekey_list]\n",
    "df_select=df_select.loc[df_select['placekey'].isin(placekey_list)] \n",
    "df_select = df_select.reset_index()\n",
    "\n",
    "print(\"The data after extracting correctly classified fast-food restaurants looks like this: \\n\" ,df_select)\n",
    "print(\"The total number of fast-food restaurant chain names selected is:\",len(list(np.unique(np.array(df_select[\"location_name\"])))))\n",
    "print(\"The number of fast-food restaurant locations selected is:\",len(list(np.unique(np.array(df_select[\"placekey\"])))))\n",
    "\n",
    "# scaling-up the visitation data from census tract to county level\n",
    "\n",
    "## This function converts the census tract to county's\n",
    "def conv_to_county(dictionary):\n",
    "    new_dict={}\n",
    "    in_the_system=[]\n",
    "    for i in dictionary.keys():\n",
    "        if str((str(i))[:5]) in in_the_system:\n",
    "            old_value=int(new_dict[str((str(i))[:5])])\n",
    "            to_be_added=int(dictionary[str(i)])\n",
    "            new_value=int(old_value+to_be_added)\n",
    "            new_dict[str((str(i))[:5])]=new_value\n",
    "        else:\n",
    "            new_dict[str((str(i))[:5])]=int(dictionary[i])\n",
    "            in_the_system.append((str(str(i))[:5]))\n",
    "    return(new_dict)\n",
    "\n",
    "## This function compiles the visitations based on county's visitors\n",
    "def home_county(list_of_tract):\n",
    "    county_list=[]\n",
    "    for i in tq.tqdm(range(len(list_of_tract))):\n",
    "        current=list_of_tract[i]\n",
    "        new=conv_to_county(current)\n",
    "        county_list.append(new)\n",
    "    return(county_list)\n",
    "\n",
    "print(\"converting our visitation dataset from census-tract level to county-level...\")\n",
    "df_select[\"home_county\"]=home_county(df_select[\"visitor_home_aggregation\"])\n",
    "print(\"converted from census-tract to county!\")\n",
    "\n",
    "\n",
    "# transforming the dataframe such we can now see visitors to each store from each county \n",
    "def detailed_long_df(old_df):\n",
    "    location_list,placekey_list,date_range_start_list,county_list,count_list=[],[],[],[],[]\n",
    "    for i in tq.tqdm(range(len(df_select))):\n",
    "        location_name,placekey,date_range_start=(df_select[\"location_name\"][i]),(df_select[\"placekey\"][i]),(df_select[\"date_range_start\"][i])\n",
    "        current_home_county=(df_select[\"home_county\"][i])\n",
    "        for j in current_home_county.keys():\n",
    "            ## removing visitors from Canada\n",
    "            try:\n",
    "                x=int(j) \n",
    "            except ValueError:\n",
    "                j=\"NULL\"\n",
    "            if j==\"NULL\":\n",
    "                count=0\n",
    "            else:\n",
    "                county=str(j)\n",
    "                count=int(current_home_county[j])\n",
    "            location_list.append(location_name)\n",
    "            placekey_list.append(placekey)\n",
    "            date_range_start_list.append(date_range_start)\n",
    "            county_list.append(county)\n",
    "            count_list.append(count)\n",
    "    df_detail = pd.DataFrame(list(zip(location_list,placekey_list,date_range_start_list,county_list,count_list)), columns =['location','placekey','date_range_start','county','count'])\n",
    "    return(df_detail)\n",
    "\n",
    "## executing the function above\n",
    "print(\"transforming the dataframe...\")\n",
    "df_detail=detailed_long_df(df_select)\n",
    "\n",
    "## Cleaning the data to prepare for aggregation \n",
    "df_detail=df_detail[df_detail[\"county\"].str.contains(\"NULL\")==False] # removing Canada visitors\n",
    "df_detail[\"type\"]=[\"fast_food_restaurant\" for i in tq.tqdm(range(len(df_detail)))]\n",
    "print(\"dataframe transformed!\")\n",
    "\n",
    "# Aggregating the data to get the total number of visits from each county to all fast-food restaurants for each month. \n",
    "print(\"aggregating county level visitation...\")\n",
    "aggregated=(df_detail.groupby(['date_range_start','county','type']).agg(month_count=('count', 'sum')))\n",
    "aggregated = aggregated.reset_index()\n",
    "print(\"data aggregated!\")\n",
    "print(\"saving the CSV file...\")\n",
    "\n",
    "# saving csv file\n",
    "aggregated.to_csv(\"fast_food_by_county.csv\")\n",
    "print(\"CSV file saved!\")"
   ]
  },
  {
   "cell_type": "code",
   "execution_count": null,
   "id": "0a781a3e",
   "metadata": {},
   "outputs": [],
   "source": []
  }
 ],
 "metadata": {
  "kernelspec": {
   "display_name": "Python 3 (ipykernel)",
   "language": "python",
   "name": "python3"
  },
  "language_info": {
   "codemirror_mode": {
    "name": "ipython",
    "version": 3
   },
   "file_extension": ".py",
   "mimetype": "text/x-python",
   "name": "python",
   "nbconvert_exporter": "python",
   "pygments_lexer": "ipython3",
   "version": "3.9.12"
  }
 },
 "nbformat": 4,
 "nbformat_minor": 5
}
